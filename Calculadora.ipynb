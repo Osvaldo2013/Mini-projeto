{
  "nbformat": 4,
  "nbformat_minor": 0,
  "metadata": {
    "colab": {
      "name": "Calculadora.ipynb",
      "provenance": [],
      "collapsed_sections": [],
      "authorship_tag": "ABX9TyMqJfbbdbWSZM13pQfMAZAA",
      "include_colab_link": true
    },
    "kernelspec": {
      "name": "python3",
      "display_name": "Python 3"
    },
    "language_info": {
      "name": "python"
    }
  },
  "cells": [
    {
      "cell_type": "markdown",
      "metadata": {
        "id": "view-in-github",
        "colab_type": "text"
      },
      "source": [
        "<a href=\"https://colab.research.google.com/github/Osvaldo2013/Mini-projeto/blob/main/Calculadora.ipynb\" target=\"_parent\"><img src=\"https://colab.research.google.com/assets/colab-badge.svg\" alt=\"Open In Colab\"/></a>"
      ]
    },
    {
      "cell_type": "markdown",
      "metadata": {
        "id": "TQsd0vs63m6j"
      },
      "source": [
        "**CALCULADORA**"
      ]
    },
    {
      "cell_type": "code",
      "metadata": {
        "id": "BmMIxghK3lBp"
      },
      "source": [
        "mensagem = 'Por favor insira a operação Matematica que deseja.'\n",
        "mensagem += '\\n+ para adição'\n",
        "mensagem += '\\n- para subtração'\n",
        "mensagem += '\\n* para multiplicação'\n",
        "mensagem += '\\n/ para divisão:'\n",
        "\n",
        "operação = input(mensagem)\n",
        "\n",
        "num_1 = int(input('Entre o primeiro numero:'))\n",
        "num_2 = int(input('Entre o segundo numero:'))\n",
        "\n",
        "if operação == '+': \n",
        "  print(f'Operação: {num_1} {operação} {num_2} = {num_1 + num_2}')\n",
        "\n",
        "elif operação == '-':\n",
        "  print(f'Operação: {num_1} {operação} {num_2} = {num_1 - num_2}')\n",
        "\n",
        "elif operação == '*':\n",
        "  print(f'Operação: {num_1} {operação} {num_2} = {num_1 * num_2}')\n",
        "\n",
        "elif operação == '/':\n",
        "  print(f'Operação: {num_1} {operação} {num_2} = {num_1 / num_2}')\n",
        "\n",
        "else:\n",
        "  print('Operação matemática inválida, tente novamente!')\n"
      ],
      "execution_count": null,
      "outputs": []
    }
  ]
}