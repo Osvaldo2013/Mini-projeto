{
  "nbformat": 4,
  "nbformat_minor": 0,
  "metadata": {
    "colab": {
      "name": "Media.ipynb",
      "provenance": [],
      "authorship_tag": "ABX9TyMFUBF705tVIMTlU0l+61Jd",
      "include_colab_link": true
    },
    "kernelspec": {
      "name": "python3",
      "display_name": "Python 3"
    },
    "language_info": {
      "name": "python"
    }
  },
  "cells": [
    {
      "cell_type": "markdown",
      "metadata": {
        "id": "view-in-github",
        "colab_type": "text"
      },
      "source": [
        "<a href=\"https://colab.research.google.com/github/Osvaldo2013/Mini-projeto/blob/main/M%C3%A9dia%20Escolar.ipynb\" target=\"_parent\"><img src=\"https://colab.research.google.com/assets/colab-badge.svg\" alt=\"Open In Colab\"/></a>"
      ]
    },
    {
      "cell_type": "code",
      "metadata": {
        "id": "tue-KC527Zz5"
      },
      "source": [
        "nome = input('Qual e o seu nome? ')\n",
        "print('Ola {}, Tudo bem!'.format(nome))\n",
        "\n",
        "nota1 = float(input('Digite a sua primeira nota: '))\n",
        "nota2 = float(input('Digite a sua segunda nota: '))\n",
        "nota3 = float(input('Digite a sua terceira nota: '))\n",
        "nota4 = float(input('Digite a sua quarta nota: '))\n",
        "\n",
        "media = (nota1 + nota2 + nota3 + nota4) / 4\n",
        "\n",
        "print('Sua media é : {}' .format(media))\n",
        "\n",
        "\n"
      ],
      "execution_count": null,
      "outputs": []
    }
  ]
}