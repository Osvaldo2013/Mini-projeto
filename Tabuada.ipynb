{
  "nbformat": 4,
  "nbformat_minor": 0,
  "metadata": {
    "colab": {
      "name": "tabuada.ipynb",
      "provenance": [],
      "collapsed_sections": [],
      "include_colab_link": true
    },
    "kernelspec": {
      "name": "python3",
      "display_name": "Python 3"
    },
    "language_info": {
      "name": "python"
    }
  },
  "cells": [
    {
      "cell_type": "markdown",
      "metadata": {
        "id": "view-in-github",
        "colab_type": "text"
      },
      "source": [
        "<a href=\"https://colab.research.google.com/github/Osvaldo2013/Mini-projeto/blob/main/Tabuada.ipynb\" target=\"_parent\"><img src=\"https://colab.research.google.com/assets/colab-badge.svg\" alt=\"Open In Colab\"/></a>"
      ]
    },
    {
      "cell_type": "markdown",
      "metadata": {
        "id": "HtrNwhBTIdU6"
      },
      "source": [
        ""
      ]
    },
    {
      "cell_type": "code",
      "metadata": {
        "id": "pZx1pYcEJnxS"
      },
      "source": [
        " num = int(input('Digite um numero para ver sua tabuada: '))\n",
        " print('{} x {:2} = {:2}'.format(num, 1, num*1))\n",
        " print('{} x {:2} = {:2}'.format(num, 2, num*2))\n",
        " print('{} x {:2} = {:2}'.format(num, 3, num*3))\n",
        " print('{} x {:2} = {:2}'.format(num, 4, num*4))\n",
        " print('{} x {:2} = {:2}'.format(num, 5, num*5))\n",
        " print('{} x {:2} = {:2}'.format(num, 6, num*6))\n",
        " print('{} x {:2} = {:2}'.format(num, 7, num*7))\n",
        " print('{} x {:2} = {:2}'.format(num, 8, num*8))\n",
        " print('{} x {:2} = {:2}'.format(num, 9, num*9))\n",
        " print('{} x {:2} = {:2}'.format(num, 10, num*10))"
      ],
      "execution_count": null,
      "outputs": []
    }
  ]
}